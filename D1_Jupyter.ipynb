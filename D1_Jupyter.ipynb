{
  "cells": [
    {
      "cell_type": "markdown",
      "metadata": {
        "id": "BD1oN-aY6ULH"
      },
      "source": [
        "# INFO 103: Introduction to data science <br> Demo \\#1: Introduction to Jupyter <br> Author: JRW\n",
        "#### Download Jupyter notebooks!\n",
        "The first thing you will have to do is download Jupyter, which will get you Python too (if you don't already have it). The easiest way to do this (regardless of operating system) is through the Anaconda distribution, which is a Python version specially geared for data science! Go and download a version if you haven't already!\n",
        "* https://www.anaconda.com/products/individual"
      ]
    },
    {
      "cell_type": "markdown",
      "metadata": {
        "id": "jD3XTBsy6ULM"
      },
      "source": [
        "## About Project Jupyter\n",
        "Project Jupyter is an open source project was born out of the IPython Project in 2014 as it evolved to support interactive data science and scientific computing across all programming languages. Jupyter will always be 100% open source software, free for all to use and released under the liberal terms of the modified BSD license\n",
        "<br><br>\n",
        "(The above was taken from the [Project Jupyter about page](http://jupyter.org/about.html).)"
      ]
    },
    {
      "cell_type": "markdown",
      "metadata": {
        "id": "C2RRNCR46ULN"
      },
      "source": [
        "#### In case you are unfamiliar with Jupyter\n",
        "Jupyter runs a persistent python environment in the background. This means you can do all the usual Python stuff. Note: Jupyter also works with (has kernels for) the Julia and Ruby programming languages ([among others](https://github.com/jupyter/jupyter/wiki/Jupyter-kernels)). However, we'll only use Python. Regardless, commands are entered in code cells:"
      ]
    },
    {
      "cell_type": "code",
      "execution_count": 1,
      "metadata": {
        "colab": {
          "base_uri": "https://localhost:8080/"
        },
        "id": "s83B2tKg6ULN",
        "outputId": "bb149113-eef3-494b-fb82-006285343484"
      },
      "outputs": [
        {
          "output_type": "execute_result",
          "data": {
            "text/plain": [
              "6"
            ]
          },
          "metadata": {},
          "execution_count": 1
        }
      ],
      "source": [
        "1+2+3"
      ]
    },
    {
      "cell_type": "markdown",
      "source": [],
      "metadata": {
        "id": "Ddc-ESrzQcR0"
      }
    },
    {
      "cell_type": "code",
      "execution_count": 6,
      "metadata": {
        "id": "l0YPK7-16ULO"
      },
      "outputs": [],
      "source": [
        "import numpy as np\n",
        "import re\n",
        "import json\n",
        "import datetime\n",
        "\n",
        "## make some variables\n",
        "mystring = \"this is some text\"\n",
        "mylist = [\"these\", \"are\", \"the\", \"items\", \"in the list\"]\n",
        "mydict = {\n",
        "    \"12345\": \"Mallika\",\n",
        "    \"3452\": \"Jake\"\n",
        "}\n",
        "mystring = \"this is some text\"\n",
        "mylist = [\"these\", \"are\", \"some\", \"words\"]\n",
        "mydict = {\n",
        "    \"jake makes\": \"examples\",\n",
        "    \"which are\": \"boring\"\n",
        "}\n",
        "mynum = [1,2,3]\n"
      ]
    },
    {
      "cell_type": "code",
      "source": [
        "## print and traverse a string\n",
        "print(mystring)\n",
        "print(\"\")\n",
        "for character in mystring:\n",
        "    print(character, )\n",
        "    #print(character, end=\" \")\n",
        "print(\"\")"
      ],
      "metadata": {
        "colab": {
          "base_uri": "https://localhost:8080/"
        },
        "id": "fv9HTVXrZLks",
        "outputId": "2d6b0a8b-fce2-4002-9c80-f39d3c80474a"
      },
      "execution_count": 9,
      "outputs": [
        {
          "output_type": "stream",
          "name": "stdout",
          "text": [
            "this is some text\n",
            "\n",
            "t h i s   i s   s o m e   t e x t \n",
            "2\n",
            "3\n",
            "4\n"
          ]
        }
      ]
    },
    {
      "cell_type": "code",
      "source": [
        "## print and traverse a list\n",
        "print(mylist)\n",
        "print(\"\")\n",
        "for myelement in mylist:\n",
        "    print(myelement)\n",
        "print(\"\")\n",
        "\n",
        "for num in mynum:\n",
        "    print(num+1)"
      ],
      "metadata": {
        "colab": {
          "base_uri": "https://localhost:8080/"
        },
        "id": "f30Le8rzZP4V",
        "outputId": "83ec3356-2b0d-4f58-ba39-83e3b13dc8b7"
      },
      "execution_count": 7,
      "outputs": [
        {
          "output_type": "stream",
          "name": "stdout",
          "text": [
            "['these', 'are', 'some', 'words']\n",
            "\n",
            "these\n",
            "are\n",
            "some\n",
            "words\n",
            "\n"
          ]
        }
      ]
    },
    {
      "cell_type": "code",
      "source": [
        "## print and traverse a dict\n",
        "print(mydict)\n",
        "print(mydict[\"jake makes\"])\n",
        "\n",
        "print(\"\")\n",
        "for key in mydict:\n",
        "    print(key,mydict[key])"
      ],
      "metadata": {
        "colab": {
          "base_uri": "https://localhost:8080/"
        },
        "id": "d_x0NU8DZRGZ",
        "outputId": "744e3b53-047f-46ca-ccf2-8d1e27333747"
      },
      "execution_count": 15,
      "outputs": [
        {
          "output_type": "stream",
          "name": "stdout",
          "text": [
            "{'jake makes': 'examples', 'which are': 'boring'}\n",
            "examples\n",
            "\n",
            "jake makes examples\n",
            "which are boring\n"
          ]
        }
      ]
    },
    {
      "cell_type": "code",
      "execution_count": null,
      "metadata": {
        "colab": {
          "base_uri": "https://localhost:8080/"
        },
        "id": "ol7MUqxu6ULP",
        "outputId": "46bb9c44-fa8e-4883-aeb7-e0756358fa69"
      },
      "outputs": [
        {
          "output_type": "execute_result",
          "data": {
            "text/plain": [
              "{'jake makes': 'examples', 'which are': 'boring'}"
            ]
          },
          "metadata": {},
          "execution_count": 3
        }
      ],
      "source": [
        "mydict"
      ]
    },
    {
      "cell_type": "code",
      "execution_count": null,
      "metadata": {
        "id": "Wepel5SB6ULP",
        "outputId": "2ff606fa-945a-4e44-d898-1d3f0b025f55"
      },
      "outputs": [
        {
          "data": {
            "text/plain": [
              "'examples'"
            ]
          },
          "execution_count": 4,
          "metadata": {},
          "output_type": "execute_result"
        }
      ],
      "source": [
        "mydict['jake makes']"
      ]
    },
    {
      "cell_type": "markdown",
      "metadata": {
        "id": "D7bu-2Cf6ULP"
      },
      "source": [
        "#### Jupyter is good for code and project exposition\n",
        "While comments in code help users and programmers to understand what's going on, Jupyter goes one step further by allowing you to break code down into separate, bite-sized pieces. As I am doing here, you can also intersperse markdown cells, which can be formatted to be much more readable. Also, you can do crazy stuff with $\\LaTeX$ and equations:\n",
        "$$\\mu = \\frac{\\sum_{n=1}^N{x(x)}}{N}$$\n",
        "and embed hyperlinks, for example, to the [Jupyter/IPython docs](http://ipython.readthedocs.io/en/stable/index.html). You can also make lists easily:\n",
        "* thing 1\n",
        "* thing 2\n",
        "* etc"
      ]
    },
    {
      "cell_type": "markdown",
      "metadata": {
        "id": "cEs_4PZI6ULQ"
      },
      "source": [
        "# This is my title\n",
        "## this is a smaller title"
      ]
    },
    {
      "cell_type": "markdown",
      "metadata": {
        "id": "seBUj1Ip6ULQ"
      },
      "source": [
        "## This is smaller title"
      ]
    },
    {
      "cell_type": "markdown",
      "metadata": {
        "id": "mL_-_jlM6ULQ"
      },
      "source": [
        "$\\mu = \\frac{\\sum_{n=1}^n (x(n)}{N}$"
      ]
    },
    {
      "cell_type": "markdown",
      "metadata": {
        "id": "IcEGbRJ-6ULQ"
      },
      "source": [
        "#### Jupyter is good for code and project exploration\n",
        "Even though I wouldn't recommend writing your final, production-level code in Jupyter, it can definitely be helpful for a project when you are in the exploration and early-development stages. For all of its benefits, it's not hard to confuse yourself while developing in Jupyter, since the code execution is asynchronous. For example, you may create a variable, execute the cell, delete the cell, and continue to use the variable you've entered into memory. If you then shut down your notebook and try to run it all again a variable will be missing!"
      ]
    },
    {
      "cell_type": "markdown",
      "metadata": {
        "id": "zpj_f6LE6ULQ"
      },
      "source": [
        "#### Jupyter has lots of add-on \"magic\" features\n",
        "Jupyter's magic features are usually related to system control and navigation. These are generally run with a preceeded \"%\" character. For example, the \"%whos\" magic command neatly tells you everything that's in your namespace (workspace):"
      ]
    },
    {
      "cell_type": "code",
      "execution_count": 16,
      "metadata": {
        "id": "qXKTgiES6ULQ",
        "outputId": "32cbc56d-c5f9-4b49-bd83-ba07df1b7755",
        "colab": {
          "base_uri": "https://localhost:8080/"
        }
      },
      "outputs": [
        {
          "output_type": "stream",
          "name": "stdout",
          "text": [
            "Variable    Type      Data/Info\n",
            "-------------------------------\n",
            "character   str       t\n",
            "datetime    module    <module 'datetime' from '<...>/python3.11/datetime.py'>\n",
            "json        module    <module 'json' from '/usr<...>on3.11/json/__init__.py'>\n",
            "key         str       which are\n",
            "mydict      dict      n=2\n",
            "myelement   str       words\n",
            "mylist      list      n=4\n",
            "mynum       list      n=3\n",
            "mystring    str       this is some text\n",
            "np          module    <module 'numpy' from '/us<...>kages/numpy/__init__.py'>\n",
            "num         int       3\n",
            "re          module    <module 're' from '/usr/l<...>thon3.11/re/__init__.py'>\n",
            "val         str       examples\n"
          ]
        }
      ],
      "source": [
        "%whos"
      ]
    },
    {
      "cell_type": "markdown",
      "metadata": {
        "id": "r8vk2-bo6ULQ"
      },
      "source": [
        "There's also \"%lsmagic\", which lists all magic commands:"
      ]
    },
    {
      "cell_type": "code",
      "execution_count": 17,
      "metadata": {
        "id": "Ht3MiTxm6ULQ",
        "outputId": "6cdb2b1d-7e43-4046-a3a2-68029324f660",
        "colab": {
          "base_uri": "https://localhost:8080/",
          "height": 1000
        }
      },
      "outputs": [
        {
          "output_type": "execute_result",
          "data": {
            "text/plain": [
              "Available line magics:\n",
              "%alias  %alias_magic  %autoawait  %autocall  %automagic  %autosave  %bookmark  %cat  %cd  %clear  %colors  %conda  %config  %connect_info  %cp  %debug  %dhist  %dirs  %doctest_mode  %ed  %edit  %env  %gui  %hist  %history  %killbgscripts  %ldir  %less  %lf  %lk  %ll  %load  %load_ext  %loadpy  %logoff  %logon  %logstart  %logstate  %logstop  %ls  %lsmagic  %lx  %macro  %magic  %man  %matplotlib  %mkdir  %more  %mv  %notebook  %page  %pastebin  %pdb  %pdef  %pdoc  %pfile  %pinfo  %pinfo2  %pip  %popd  %pprint  %precision  %prun  %psearch  %psource  %pushd  %pwd  %pycat  %pylab  %qtconsole  %quickref  %recall  %rehashx  %reload_ext  %rep  %rerun  %reset  %reset_selective  %rm  %rmdir  %run  %save  %sc  %set_env  %shell  %store  %sx  %system  %tb  %tensorflow_version  %time  %timeit  %unalias  %unload_ext  %who  %who_ls  %whos  %xdel  %xmode\n",
              "\n",
              "Available cell magics:\n",
              "%%!  %%HTML  %%SVG  %%bash  %%bigquery  %%capture  %%debug  %%file  %%html  %%javascript  %%js  %%latex  %%markdown  %%perl  %%prun  %%pypy  %%python  %%python2  %%python3  %%ruby  %%script  %%sh  %%shell  %%spanner_graph  %%svg  %%sx  %%system  %%time  %%timeit  %%writefile\n",
              "\n",
              "Automagic is ON, % prefix IS NOT needed for line magics."
            ],
            "application/json": {
              "line": {
                "automagic": "AutoMagics",
                "autocall": "AutoMagics",
                "alias_magic": "BasicMagics",
                "lsmagic": "BasicMagics",
                "magic": "BasicMagics",
                "page": "BasicMagics",
                "pprint": "BasicMagics",
                "colors": "BasicMagics",
                "xmode": "BasicMagics",
                "quickref": "BasicMagics",
                "doctest_mode": "BasicMagics",
                "gui": "BasicMagics",
                "precision": "BasicMagics",
                "notebook": "BasicMagics",
                "save": "CodeMagics",
                "pastebin": "CodeMagics",
                "loadpy": "CodeMagics",
                "load": "CodeMagics",
                "edit": "KernelMagics",
                "config": "ConfigMagics",
                "prun": "ExecutionMagics",
                "pdb": "ExecutionMagics",
                "debug": "ExecutionMagics",
                "tb": "ExecutionMagics",
                "run": "ExecutionMagics",
                "timeit": "ExecutionMagics",
                "time": "ExecutionMagics",
                "macro": "ExecutionMagics",
                "load_ext": "ExtensionMagics",
                "unload_ext": "ExtensionMagics",
                "reload_ext": "ExtensionMagics",
                "history": "HistoryMagics",
                "recall": "HistoryMagics",
                "rerun": "HistoryMagics",
                "logstart": "LoggingMagics",
                "logstop": "LoggingMagics",
                "logoff": "LoggingMagics",
                "logon": "LoggingMagics",
                "logstate": "LoggingMagics",
                "pinfo": "NamespaceMagics",
                "pinfo2": "NamespaceMagics",
                "pdef": "NamespaceMagics",
                "pdoc": "NamespaceMagics",
                "psource": "NamespaceMagics",
                "pfile": "NamespaceMagics",
                "psearch": "NamespaceMagics",
                "who_ls": "NamespaceMagics",
                "who": "NamespaceMagics",
                "whos": "NamespaceMagics",
                "reset": "NamespaceMagics",
                "reset_selective": "NamespaceMagics",
                "xdel": "NamespaceMagics",
                "alias": "OSMagics",
                "unalias": "OSMagics",
                "rehashx": "OSMagics",
                "pwd": "OSMagics",
                "cd": "OSMagics",
                "env": "OSMagics",
                "set_env": "OSMagics",
                "pushd": "OSMagics",
                "popd": "OSMagics",
                "dirs": "OSMagics",
                "dhist": "OSMagics",
                "sc": "OSMagics",
                "sx": "OSMagics",
                "system": "OSMagics",
                "bookmark": "OSMagics",
                "pycat": "OSMagics",
                "pip": "Other",
                "conda": "PackagingMagics",
                "matplotlib": "PylabMagics",
                "pylab": "PylabMagics",
                "killbgscripts": "ScriptMagics",
                "autoawait": "AsyncMagics",
                "ed": "Other",
                "hist": "Other",
                "rep": "Other",
                "clear": "KernelMagics",
                "less": "KernelMagics",
                "more": "KernelMagics",
                "man": "KernelMagics",
                "connect_info": "KernelMagics",
                "qtconsole": "KernelMagics",
                "autosave": "KernelMagics",
                "mkdir": "Other",
                "rmdir": "Other",
                "mv": "Other",
                "rm": "Other",
                "cp": "Other",
                "cat": "Other",
                "ls": "Other",
                "ll": "Other",
                "lf": "Other",
                "lk": "Other",
                "ldir": "Other",
                "lx": "Other",
                "store": "StoreMagics",
                "shell": "Other",
                "tensorflow_version": "Other"
              },
              "cell": {
                "js": "DisplayMagics",
                "javascript": "DisplayMagics",
                "latex": "DisplayMagics",
                "svg": "DisplayMagics",
                "html": "DisplayMagics",
                "markdown": "DisplayMagics",
                "prun": "ExecutionMagics",
                "debug": "ExecutionMagics",
                "timeit": "ExecutionMagics",
                "time": "ExecutionMagics",
                "capture": "ExecutionMagics",
                "sx": "OSMagics",
                "system": "OSMagics",
                "!": "OSMagics",
                "writefile": "OSMagics",
                "script": "ScriptMagics",
                "sh": "Other",
                "bash": "Other",
                "perl": "Other",
                "ruby": "Other",
                "python": "Other",
                "python2": "Other",
                "python3": "Other",
                "pypy": "Other",
                "SVG": "Other",
                "HTML": "Other",
                "file": "Other",
                "bigquery": "Other",
                "spanner_graph": "Other",
                "shell": "Other"
              }
            }
          },
          "metadata": {},
          "execution_count": 17
        }
      ],
      "source": [
        "%lsmagic"
      ]
    },
    {
      "cell_type": "markdown",
      "metadata": {
        "id": "DRRrYnSo6ULR"
      },
      "source": [
        "#### What do \"%%\" magic commands do?\n",
        "The double-percentage magic commands apply to a whole cell, for example the \"%%writefile\", which if entered as \"%%writefile PATH/NAME.EXTENSION\" at the top of a cell will write the cell's content to a file in the specified location. Also really cool are the language language-based magic commands that let you switch between programming languages. Note that these will not create persistent environments (kernels) for those languages. For example, we can use \"%%html\" to render a nice [example website](https://www.example.com) in Jupyter markdown:"
      ]
    },
    {
      "cell_type": "code",
      "execution_count": 18,
      "metadata": {
        "id": "bRoWgLKk6ULR",
        "outputId": "837b7635-35a7-45c0-d0d1-adfdec052397",
        "colab": {
          "base_uri": "https://localhost:8080/",
          "height": 112
        }
      },
      "outputs": [
        {
          "output_type": "display_data",
          "data": {
            "text/plain": [
              "<IPython.core.display.HTML object>"
            ],
            "text/html": [
              "<!DOCTYPE html PUBLIC \"-//W3C//DTD HTML 4.01//EN\" \"http://www.w3.org/TR/html4/strict.dtd\">\n",
              "<html>\n",
              "<head>\n",
              "  <meta http-equiv=\"Content-Type\" content=\"text/html; charset=utf-8\">\n",
              "  <meta http-equiv=\"Content-Style-Type\" content=\"text/css\">\n",
              "  <title></title>\n",
              "  <meta name=\"Generator\" content=\"Cocoa HTML Writer\">\n",
              "  <meta name=\"CocoaVersion\" content=\"1504.82\">\n",
              "  <style type=\"text/css\">\n",
              "    body {background-color: #f0f0f2}\n",
              "    p.p2 {margin: 0.0px 0.0px 12.0px 0.0px; line-height: 14.0px; font: 12.0px 'Helvetica Neue'; color: #000000; -webkit-text-stroke: #000000}\n",
              "    p.p3 {margin: 0.0px 0.0px 12.0px 0.0px; line-height: 14.0px; font: 12.0px 'Helvetica Neue'; color: #38488f; -webkit-text-stroke: #38488f}\n",
              "    span.s1 {font-kerning: none; background-color: #ffffff}\n",
              "    span.s2 {font: 12.0px 'Helvetica Neue'; font-kerning: none; color: #38488f; -webkit-text-stroke: 0px #38488f}\n",
              "  </style>\n",
              "</head>\n",
              "<body>\n",
              "<h1 style=\"margin: 0.0px 0.0px 16.1px 0.0px; line-height: 29.0px; font: 24.0px 'Helvetica Neue'; color: #000000; -webkit-text-stroke: #000000\"><span class=\"s1\"><b>Example Domain</b></span></h1>\n",
              "<p class=\"p2\"><span class=\"s1\">This domain is established to be used for illustrative examples in documents. You may use this domain in examples without prior coordination or asking for permission.</span></p>\n",
              "<p class=\"p3\"><span class=\"s1\"><a href=\"http://www.iana.org/domains/example\">More information...<span class=\"s2\"></span></a></span></p>\n",
              "</body>\n",
              "</html>\n"
            ]
          },
          "metadata": {}
        }
      ],
      "source": [
        "%%html\n",
        "<!DOCTYPE html PUBLIC \"-//W3C//DTD HTML 4.01//EN\" \"http://www.w3.org/TR/html4/strict.dtd\">\n",
        "<html>\n",
        "<head>\n",
        "  <meta http-equiv=\"Content-Type\" content=\"text/html; charset=utf-8\">\n",
        "  <meta http-equiv=\"Content-Style-Type\" content=\"text/css\">\n",
        "  <title></title>\n",
        "  <meta name=\"Generator\" content=\"Cocoa HTML Writer\">\n",
        "  <meta name=\"CocoaVersion\" content=\"1504.82\">\n",
        "  <style type=\"text/css\">\n",
        "    body {background-color: #f0f0f2}\n",
        "    p.p2 {margin: 0.0px 0.0px 12.0px 0.0px; line-height: 14.0px; font: 12.0px 'Helvetica Neue'; color: #000000; -webkit-text-stroke: #000000}\n",
        "    p.p3 {margin: 0.0px 0.0px 12.0px 0.0px; line-height: 14.0px; font: 12.0px 'Helvetica Neue'; color: #38488f; -webkit-text-stroke: #38488f}\n",
        "    span.s1 {font-kerning: none; background-color: #ffffff}\n",
        "    span.s2 {font: 12.0px 'Helvetica Neue'; font-kerning: none; color: #38488f; -webkit-text-stroke: 0px #38488f}\n",
        "  </style>\n",
        "</head>\n",
        "<body>\n",
        "<h1 style=\"margin: 0.0px 0.0px 16.1px 0.0px; line-height: 29.0px; font: 24.0px 'Helvetica Neue'; color: #000000; -webkit-text-stroke: #000000\"><span class=\"s1\"><b>Example Domain</b></span></h1>\n",
        "<p class=\"p2\"><span class=\"s1\">This domain is established to be used for illustrative examples in documents. You may use this domain in examples without prior coordination or asking for permission.</span></p>\n",
        "<p class=\"p3\"><span class=\"s1\"><a href=\"http://www.iana.org/domains/example\">More information...<span class=\"s2\"></span></a></span></p>\n",
        "</body>\n",
        "</html>"
      ]
    },
    {
      "cell_type": "markdown",
      "metadata": {
        "id": "gCZEllJ76ULR"
      },
      "source": [
        "#### Not everyone has Jupyter even though you may want to share!\n",
        "This is ok, because you can use the Jupyter/IPython notebook viewer facility:\n",
        "\n",
        "* https://nbviewer.jupyter.org\n",
        "\n",
        "All you have to do is get your notebook into a public location on the internet and then place its url in the specified location (in the website above). This will generate a link that people can visit, where the notebook can be viewed as html through ANY browser, regardless of whether or not they have Jupyter. In fact, supposing you have not downloaded Jupyter yet this is how you are viewing this introduction&mdash;here's the link for [this very notebook](https://nbviewer.jupyter.org/url/www.pages.drexel.edu/%7Ejw3477/documents/GettingStartedWithJupyter.ipynb)!"
      ]
    },
    {
      "cell_type": "markdown",
      "metadata": {
        "id": "_edv9bIV6ULR"
      },
      "source": [
        "#### What to do next?\n",
        "Well, next week's will play with different kinds of data, but for now feel free to check out the offical gallery of interesting Jupyter notebooks:\n",
        "\n",
        "* https://github.com/jupyter/jupyter/wiki/A-gallery-of-interesting-Jupyter-Notebooks\n",
        "\n",
        "For example, there is the xkcd-style plotifier:\n",
        "\n",
        "* http://nbviewer.jupyter.org/url/jakevdp.github.com/downloads/notebooks/XKCD_plots.ipynb\n",
        "\n",
        "Also, keep the Jupyter/IPython docs handy for reference:\n",
        "\n",
        "* http://ipython.readthedocs.io/en/stable/index.html"
      ]
    },
    {
      "cell_type": "code",
      "execution_count": 18,
      "metadata": {
        "collapsed": true,
        "id": "5aJ5EO7J6ULR"
      },
      "outputs": [],
      "source": []
    }
  ],
  "metadata": {
    "kernelspec": {
      "display_name": "Python 3",
      "language": "python",
      "name": "python3"
    },
    "language_info": {
      "codemirror_mode": {
        "name": "ipython",
        "version": 3
      },
      "file_extension": ".py",
      "mimetype": "text/x-python",
      "name": "python",
      "nbconvert_exporter": "python",
      "pygments_lexer": "ipython3",
      "version": "3.7.3"
    },
    "colab": {
      "provenance": []
    }
  },
  "nbformat": 4,
  "nbformat_minor": 0
}